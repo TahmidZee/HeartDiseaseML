{
  "nbformat": 4,
  "nbformat_minor": 0,
  "metadata": {
    "colab": {
      "name": "HeartDisease.ipynb",
      "provenance": []
    },
    "kernelspec": {
      "name": "python3",
      "display_name": "Python 3"
    },
    "language_info": {
      "name": "python"
    }
  },
  "cells": [
    {
      "cell_type": "code",
      "execution_count": null,
      "metadata": {
        "id": "kKOh6o4wyW2q"
      },
      "outputs": [],
      "source": [
        "import numpy as np\n",
        "import matplotlib.pyplot as plt\n",
        "import pandas as pd\n"
      ]
    },
    {
      "cell_type": "code",
      "source": [
        "from google.colab import drive\n",
        "drive.mount('/content/drive')"
      ],
      "metadata": {
        "colab": {
          "base_uri": "https://localhost:8080/"
        },
        "id": "elhv65Zzyjqx",
        "outputId": "879766dd-c632-4613-cc12-99a75cca2737"
      },
      "execution_count": null,
      "outputs": [
        {
          "output_type": "stream",
          "name": "stdout",
          "text": [
            "Mounted at /content/drive\n"
          ]
        }
      ]
    },
    {
      "cell_type": "code",
      "source": [
        "dataset=pd.read_csv('/content/drive/MyDrive/Machine-learning-part-1-main/heart.csv')\n",
        "dataset.head(10)"
      ],
      "metadata": {
        "colab": {
          "base_uri": "https://localhost:8080/",
          "height": 363
        },
        "id": "bLLqiPT1zOFu",
        "outputId": "46fec366-9ccf-45fa-eaf3-202015cb7302"
      },
      "execution_count": null,
      "outputs": [
        {
          "output_type": "execute_result",
          "data": {
            "text/plain": [
              "   age  sex  cp  trestbps  chol  fbs  restecg  thalach  exang  oldpeak  slope  \\\n",
              "0   63    1   3       145   233    1        0      150      0      2.3      0   \n",
              "1   37    1   2       130   250    0        1      187      0      3.5      0   \n",
              "2   41    0   1       130   204    0        0      172      0      1.4      2   \n",
              "3   56    1   1       120   236    0        1      178      0      0.8      2   \n",
              "4   57    0   0       120   354    0        1      163      1      0.6      2   \n",
              "5   57    1   0       140   192    0        1      148      0      0.4      1   \n",
              "6   56    0   1       140   294    0        0      153      0      1.3      1   \n",
              "7   44    1   1       120   263    0        1      173      0      0.0      2   \n",
              "8   52    1   2       172   199    1        1      162      0      0.5      2   \n",
              "9   57    1   2       150   168    0        1      174      0      1.6      2   \n",
              "\n",
              "   ca  thal  target  \n",
              "0   0     1       1  \n",
              "1   0     2       1  \n",
              "2   0     2       1  \n",
              "3   0     2       1  \n",
              "4   0     2       1  \n",
              "5   0     1       1  \n",
              "6   0     2       1  \n",
              "7   0     3       1  \n",
              "8   0     3       1  \n",
              "9   0     2       1  "
            ],
            "text/html": [
              "\n",
              "  <div id=\"df-fe575bff-88b8-45e9-8c32-882caf80da95\">\n",
              "    <div class=\"colab-df-container\">\n",
              "      <div>\n",
              "<style scoped>\n",
              "    .dataframe tbody tr th:only-of-type {\n",
              "        vertical-align: middle;\n",
              "    }\n",
              "\n",
              "    .dataframe tbody tr th {\n",
              "        vertical-align: top;\n",
              "    }\n",
              "\n",
              "    .dataframe thead th {\n",
              "        text-align: right;\n",
              "    }\n",
              "</style>\n",
              "<table border=\"1\" class=\"dataframe\">\n",
              "  <thead>\n",
              "    <tr style=\"text-align: right;\">\n",
              "      <th></th>\n",
              "      <th>age</th>\n",
              "      <th>sex</th>\n",
              "      <th>cp</th>\n",
              "      <th>trestbps</th>\n",
              "      <th>chol</th>\n",
              "      <th>fbs</th>\n",
              "      <th>restecg</th>\n",
              "      <th>thalach</th>\n",
              "      <th>exang</th>\n",
              "      <th>oldpeak</th>\n",
              "      <th>slope</th>\n",
              "      <th>ca</th>\n",
              "      <th>thal</th>\n",
              "      <th>target</th>\n",
              "    </tr>\n",
              "  </thead>\n",
              "  <tbody>\n",
              "    <tr>\n",
              "      <th>0</th>\n",
              "      <td>63</td>\n",
              "      <td>1</td>\n",
              "      <td>3</td>\n",
              "      <td>145</td>\n",
              "      <td>233</td>\n",
              "      <td>1</td>\n",
              "      <td>0</td>\n",
              "      <td>150</td>\n",
              "      <td>0</td>\n",
              "      <td>2.3</td>\n",
              "      <td>0</td>\n",
              "      <td>0</td>\n",
              "      <td>1</td>\n",
              "      <td>1</td>\n",
              "    </tr>\n",
              "    <tr>\n",
              "      <th>1</th>\n",
              "      <td>37</td>\n",
              "      <td>1</td>\n",
              "      <td>2</td>\n",
              "      <td>130</td>\n",
              "      <td>250</td>\n",
              "      <td>0</td>\n",
              "      <td>1</td>\n",
              "      <td>187</td>\n",
              "      <td>0</td>\n",
              "      <td>3.5</td>\n",
              "      <td>0</td>\n",
              "      <td>0</td>\n",
              "      <td>2</td>\n",
              "      <td>1</td>\n",
              "    </tr>\n",
              "    <tr>\n",
              "      <th>2</th>\n",
              "      <td>41</td>\n",
              "      <td>0</td>\n",
              "      <td>1</td>\n",
              "      <td>130</td>\n",
              "      <td>204</td>\n",
              "      <td>0</td>\n",
              "      <td>0</td>\n",
              "      <td>172</td>\n",
              "      <td>0</td>\n",
              "      <td>1.4</td>\n",
              "      <td>2</td>\n",
              "      <td>0</td>\n",
              "      <td>2</td>\n",
              "      <td>1</td>\n",
              "    </tr>\n",
              "    <tr>\n",
              "      <th>3</th>\n",
              "      <td>56</td>\n",
              "      <td>1</td>\n",
              "      <td>1</td>\n",
              "      <td>120</td>\n",
              "      <td>236</td>\n",
              "      <td>0</td>\n",
              "      <td>1</td>\n",
              "      <td>178</td>\n",
              "      <td>0</td>\n",
              "      <td>0.8</td>\n",
              "      <td>2</td>\n",
              "      <td>0</td>\n",
              "      <td>2</td>\n",
              "      <td>1</td>\n",
              "    </tr>\n",
              "    <tr>\n",
              "      <th>4</th>\n",
              "      <td>57</td>\n",
              "      <td>0</td>\n",
              "      <td>0</td>\n",
              "      <td>120</td>\n",
              "      <td>354</td>\n",
              "      <td>0</td>\n",
              "      <td>1</td>\n",
              "      <td>163</td>\n",
              "      <td>1</td>\n",
              "      <td>0.6</td>\n",
              "      <td>2</td>\n",
              "      <td>0</td>\n",
              "      <td>2</td>\n",
              "      <td>1</td>\n",
              "    </tr>\n",
              "    <tr>\n",
              "      <th>5</th>\n",
              "      <td>57</td>\n",
              "      <td>1</td>\n",
              "      <td>0</td>\n",
              "      <td>140</td>\n",
              "      <td>192</td>\n",
              "      <td>0</td>\n",
              "      <td>1</td>\n",
              "      <td>148</td>\n",
              "      <td>0</td>\n",
              "      <td>0.4</td>\n",
              "      <td>1</td>\n",
              "      <td>0</td>\n",
              "      <td>1</td>\n",
              "      <td>1</td>\n",
              "    </tr>\n",
              "    <tr>\n",
              "      <th>6</th>\n",
              "      <td>56</td>\n",
              "      <td>0</td>\n",
              "      <td>1</td>\n",
              "      <td>140</td>\n",
              "      <td>294</td>\n",
              "      <td>0</td>\n",
              "      <td>0</td>\n",
              "      <td>153</td>\n",
              "      <td>0</td>\n",
              "      <td>1.3</td>\n",
              "      <td>1</td>\n",
              "      <td>0</td>\n",
              "      <td>2</td>\n",
              "      <td>1</td>\n",
              "    </tr>\n",
              "    <tr>\n",
              "      <th>7</th>\n",
              "      <td>44</td>\n",
              "      <td>1</td>\n",
              "      <td>1</td>\n",
              "      <td>120</td>\n",
              "      <td>263</td>\n",
              "      <td>0</td>\n",
              "      <td>1</td>\n",
              "      <td>173</td>\n",
              "      <td>0</td>\n",
              "      <td>0.0</td>\n",
              "      <td>2</td>\n",
              "      <td>0</td>\n",
              "      <td>3</td>\n",
              "      <td>1</td>\n",
              "    </tr>\n",
              "    <tr>\n",
              "      <th>8</th>\n",
              "      <td>52</td>\n",
              "      <td>1</td>\n",
              "      <td>2</td>\n",
              "      <td>172</td>\n",
              "      <td>199</td>\n",
              "      <td>1</td>\n",
              "      <td>1</td>\n",
              "      <td>162</td>\n",
              "      <td>0</td>\n",
              "      <td>0.5</td>\n",
              "      <td>2</td>\n",
              "      <td>0</td>\n",
              "      <td>3</td>\n",
              "      <td>1</td>\n",
              "    </tr>\n",
              "    <tr>\n",
              "      <th>9</th>\n",
              "      <td>57</td>\n",
              "      <td>1</td>\n",
              "      <td>2</td>\n",
              "      <td>150</td>\n",
              "      <td>168</td>\n",
              "      <td>0</td>\n",
              "      <td>1</td>\n",
              "      <td>174</td>\n",
              "      <td>0</td>\n",
              "      <td>1.6</td>\n",
              "      <td>2</td>\n",
              "      <td>0</td>\n",
              "      <td>2</td>\n",
              "      <td>1</td>\n",
              "    </tr>\n",
              "  </tbody>\n",
              "</table>\n",
              "</div>\n",
              "      <button class=\"colab-df-convert\" onclick=\"convertToInteractive('df-fe575bff-88b8-45e9-8c32-882caf80da95')\"\n",
              "              title=\"Convert this dataframe to an interactive table.\"\n",
              "              style=\"display:none;\">\n",
              "        \n",
              "  <svg xmlns=\"http://www.w3.org/2000/svg\" height=\"24px\"viewBox=\"0 0 24 24\"\n",
              "       width=\"24px\">\n",
              "    <path d=\"M0 0h24v24H0V0z\" fill=\"none\"/>\n",
              "    <path d=\"M18.56 5.44l.94 2.06.94-2.06 2.06-.94-2.06-.94-.94-2.06-.94 2.06-2.06.94zm-11 1L8.5 8.5l.94-2.06 2.06-.94-2.06-.94L8.5 2.5l-.94 2.06-2.06.94zm10 10l.94 2.06.94-2.06 2.06-.94-2.06-.94-.94-2.06-.94 2.06-2.06.94z\"/><path d=\"M17.41 7.96l-1.37-1.37c-.4-.4-.92-.59-1.43-.59-.52 0-1.04.2-1.43.59L10.3 9.45l-7.72 7.72c-.78.78-.78 2.05 0 2.83L4 21.41c.39.39.9.59 1.41.59.51 0 1.02-.2 1.41-.59l7.78-7.78 2.81-2.81c.8-.78.8-2.07 0-2.86zM5.41 20L4 18.59l7.72-7.72 1.47 1.35L5.41 20z\"/>\n",
              "  </svg>\n",
              "      </button>\n",
              "      \n",
              "  <style>\n",
              "    .colab-df-container {\n",
              "      display:flex;\n",
              "      flex-wrap:wrap;\n",
              "      gap: 12px;\n",
              "    }\n",
              "\n",
              "    .colab-df-convert {\n",
              "      background-color: #E8F0FE;\n",
              "      border: none;\n",
              "      border-radius: 50%;\n",
              "      cursor: pointer;\n",
              "      display: none;\n",
              "      fill: #1967D2;\n",
              "      height: 32px;\n",
              "      padding: 0 0 0 0;\n",
              "      width: 32px;\n",
              "    }\n",
              "\n",
              "    .colab-df-convert:hover {\n",
              "      background-color: #E2EBFA;\n",
              "      box-shadow: 0px 1px 2px rgba(60, 64, 67, 0.3), 0px 1px 3px 1px rgba(60, 64, 67, 0.15);\n",
              "      fill: #174EA6;\n",
              "    }\n",
              "\n",
              "    [theme=dark] .colab-df-convert {\n",
              "      background-color: #3B4455;\n",
              "      fill: #D2E3FC;\n",
              "    }\n",
              "\n",
              "    [theme=dark] .colab-df-convert:hover {\n",
              "      background-color: #434B5C;\n",
              "      box-shadow: 0px 1px 3px 1px rgba(0, 0, 0, 0.15);\n",
              "      filter: drop-shadow(0px 1px 2px rgba(0, 0, 0, 0.3));\n",
              "      fill: #FFFFFF;\n",
              "    }\n",
              "  </style>\n",
              "\n",
              "      <script>\n",
              "        const buttonEl =\n",
              "          document.querySelector('#df-fe575bff-88b8-45e9-8c32-882caf80da95 button.colab-df-convert');\n",
              "        buttonEl.style.display =\n",
              "          google.colab.kernel.accessAllowed ? 'block' : 'none';\n",
              "\n",
              "        async function convertToInteractive(key) {\n",
              "          const element = document.querySelector('#df-fe575bff-88b8-45e9-8c32-882caf80da95');\n",
              "          const dataTable =\n",
              "            await google.colab.kernel.invokeFunction('convertToInteractive',\n",
              "                                                     [key], {});\n",
              "          if (!dataTable) return;\n",
              "\n",
              "          const docLinkHtml = 'Like what you see? Visit the ' +\n",
              "            '<a target=\"_blank\" href=https://colab.research.google.com/notebooks/data_table.ipynb>data table notebook</a>'\n",
              "            + ' to learn more about interactive tables.';\n",
              "          element.innerHTML = '';\n",
              "          dataTable['output_type'] = 'display_data';\n",
              "          await google.colab.output.renderOutput(dataTable, element);\n",
              "          const docLink = document.createElement('div');\n",
              "          docLink.innerHTML = docLinkHtml;\n",
              "          element.appendChild(docLink);\n",
              "        }\n",
              "      </script>\n",
              "    </div>\n",
              "  </div>\n",
              "  "
            ]
          },
          "metadata": {},
          "execution_count": 3
        }
      ]
    },
    {
      "cell_type": "code",
      "source": [
        "print ('Data shape', dataset.shape)"
      ],
      "metadata": {
        "colab": {
          "base_uri": "https://localhost:8080/"
        },
        "id": "OaJOvzkl0AfG",
        "outputId": "11dca8a5-625e-4cc1-dedf-41cb906355e5"
      },
      "execution_count": null,
      "outputs": [
        {
          "output_type": "stream",
          "name": "stdout",
          "text": [
            "Data shape (303, 14)\n"
          ]
        }
      ]
    },
    {
      "cell_type": "code",
      "source": [
        "dataset.isnull().sum()\n",
        "print(dataset.isnull().sum())"
      ],
      "metadata": {
        "colab": {
          "base_uri": "https://localhost:8080/"
        },
        "id": "95l8z1et0y_R",
        "outputId": "ebec4663-3496-4716-dc8e-4141530444f2"
      },
      "execution_count": null,
      "outputs": [
        {
          "output_type": "stream",
          "name": "stdout",
          "text": [
            "age         0\n",
            "sex         0\n",
            "cp          0\n",
            "trestbps    0\n",
            "chol        0\n",
            "fbs         0\n",
            "restecg     0\n",
            "thalach     0\n",
            "exang       0\n",
            "oldpeak     0\n",
            "slope       0\n",
            "ca          0\n",
            "thal        0\n",
            "target      0\n",
            "dtype: int64\n"
          ]
        }
      ]
    },
    {
      "cell_type": "code",
      "source": [
        "X=dataset.iloc[:,0:13].values\n",
        "x=dataset.iloc[:,0:13]\n",
        "Y=dataset.iloc[:,13].values\n",
        "y=dataset.iloc[:,13:14]\n",
        "print(\"X shape\",x.shape)\n",
        "print(\"Y shape\", y.shape)"
      ],
      "metadata": {
        "colab": {
          "base_uri": "https://localhost:8080/"
        },
        "id": "A8VqMWCAApRL",
        "outputId": "29c0e17d-9421-4708-f44b-e41dd6c4442f"
      },
      "execution_count": null,
      "outputs": [
        {
          "output_type": "stream",
          "name": "stdout",
          "text": [
            "X shape (303, 13)\n",
            "Y shape (303, 1)\n"
          ]
        }
      ]
    },
    {
      "cell_type": "code",
      "source": [
        "print(\"Attributes\\n\")\n",
        "for col in x.columns:\n",
        "  print(col)\n",
        "\n",
        "print(\"Class\\n\")\n",
        "for col in y.columns:\n",
        "  print(col)"
      ],
      "metadata": {
        "colab": {
          "base_uri": "https://localhost:8080/"
        },
        "id": "ub0xamEsBxnB",
        "outputId": "bec2f323-412b-49e5-cad7-76229d921c68"
      },
      "execution_count": null,
      "outputs": [
        {
          "output_type": "stream",
          "name": "stdout",
          "text": [
            "Attributes\n",
            "\n",
            "age\n",
            "sex\n",
            "cp\n",
            "trestbps\n",
            "chol\n",
            "fbs\n",
            "restecg\n",
            "thalach\n",
            "exang\n",
            "oldpeak\n",
            "slope\n",
            "ca\n",
            "thal\n",
            "Class\n",
            "\n",
            "target\n"
          ]
        }
      ]
    },
    {
      "cell_type": "code",
      "source": [
        "import seaborn as sn\n",
        "sn.set(font_scale=0.75)\n",
        "fig_dimension= (12,8)\n",
        "fig,ax=plt.subplots(figsize=fig_dimension)\n",
        "sn.heatmap(dataset.corr(),annot=True, ax=ax)\n",
        "plt.show()"
      ],
      "metadata": {
        "colab": {
          "base_uri": "https://localhost:8080/",
          "height": 488
        },
        "id": "xpkg9tomCWhI",
        "outputId": "0b4999cc-3515-49dd-d4b2-00165b43dc0e"
      },
      "execution_count": null,
      "outputs": [
        {
          "output_type": "display_data",
          "data": {
            "text/plain": [
              "<Figure size 864x576 with 2 Axes>"
            ],
            "image/png": "[encoded data removed]"
          },
          "metadata": {}
        }
      ]
    },
    {
      "cell_type": "code",
      "source": [
        "from sklearn.model_selection import train_test_split\n",
        "X_train, X_test, Y_train, Y_test = train_test_split(X,Y, test_size= 0.20, random_state=0)\n"
      ],
      "metadata": {
        "id": "vSNSl28GFU96"
      },
      "execution_count": null,
      "outputs": []
    },
    {
      "cell_type": "code",
      "source": [
        "from sklearn.preprocessing import StandardScaler\n",
        "sc=StandardScaler()\n",
        "X_train=sc.fit_transform(X_train)\n",
        "X_test=sc.transform(X_test)\n"
      ],
      "metadata": {
        "id": "B8sySqALJlxf"
      },
      "execution_count": null,
      "outputs": []
    },
    {
      "cell_type": "code",
      "source": [
        "from sklearn.neighbors import KNeighborsClassifier\n",
        "classifier_knn = KNeighborsClassifier(n_neighbors = 5, metric = 'minkowski', p = 2)"
      ],
      "metadata": {
        "id": "TI0IrTIWa_3e"
      },
      "execution_count": null,
      "outputs": []
    },
    {
      "cell_type": "code",
      "source": [
        "classifier_knn.fit(X_train, Y_train)"
      ],
      "metadata": {
        "colab": {
          "base_uri": "https://localhost:8080/"
        },
        "id": "t5YID5niclYu",
        "outputId": "bfb508b3-d9d3-464d-adcc-322dd7dee585"
      },
      "execution_count": null,
      "outputs": [
        {
          "output_type": "execute_result",
          "data": {
            "text/plain": [
              "KNeighborsClassifier()"
            ]
          },
          "metadata": {},
          "execution_count": 12
        }
      ]
    },
    {
      "cell_type": "code",
      "source": [
        "y_prediction_knn=classifier_knn.predict(X_test)"
      ],
      "metadata": {
        "id": "5Xo8Cu_ScxkI"
      },
      "execution_count": null,
      "outputs": []
    },
    {
      "cell_type": "code",
      "source": [
        "from sklearn.metrics import confusion_matrix\n",
        "CM_knn=confusion_matrix(Y_test, y_prediction_knn)\n",
        "print(CM_knn)"
      ],
      "metadata": {
        "colab": {
          "base_uri": "https://localhost:8080/"
        },
        "id": "bAlnGQE1eICB",
        "outputId": "6509715b-4a53-4cab-9e4d-6a63627633a9"
      },
      "execution_count": null,
      "outputs": [
        {
          "output_type": "stream",
          "name": "stdout",
          "text": [
            "[[21  6]\n",
            " [ 5 29]]\n"
          ]
        }
      ]
    },
    {
      "cell_type": "code",
      "source": [
        "sn.heatmap(CM_knn, annot= True)"
      ],
      "metadata": {
        "colab": {
          "base_uri": "https://localhost:8080/",
          "height": 284
        },
        "id": "XLsiD3EVeYgv",
        "outputId": "80ae8b47-104a-4d02-bbe5-0a02a23b7d50"
      },
      "execution_count": null,
      "outputs": [
        {
          "output_type": "execute_result",
          "data": {
            "text/plain": [
              "<matplotlib.axes._subplots.AxesSubplot at 0x7fee54c78250>"
            ]
          },
          "metadata": {},
          "execution_count": 15
        },
        {
          "output_type": "display_data",
          "data": {
            "text/plain": [
              "<Figure size 432x288 with 2 Axes>"
            ],
            "image/png": "[encoded data removed]"
          },
          "metadata": {}
        }
      ]
    },
    {
      "cell_type": "code",
      "source": [
        "from sklearn.metrics import accuracy_score, precision_score, recall_score, f1_score\n",
        "ac  = accuracy_score(Y_test, y_prediction_knn)\n",
        "pre = precision_score(Y_test, y_prediction_knn)\n",
        "re  = recall_score(Y_test, y_prediction_knn)\n",
        "f1  = f1_score(Y_test, y_prediction_knn)"
      ],
      "metadata": {
        "id": "NWpojHJGeto7"
      },
      "execution_count": null,
      "outputs": []
    },
    {
      "cell_type": "code",
      "source": [
        "print(\"KNN overview\")\n",
        "print(\"Accuracy =\", ac)\n",
        "print(\"Precison =\",pre)\n",
        "print(\"Recall =\", re)\n",
        "print(\"f1 score =\", f1)"
      ],
      "metadata": {
        "colab": {
          "base_uri": "https://localhost:8080/"
        },
        "id": "9d0Fb3pEfBNJ",
        "outputId": "18364017-2553-4cf5-b975-d0a30c45e0c4"
      },
      "execution_count": null,
      "outputs": [
        {
          "output_type": "stream",
          "name": "stdout",
          "text": [
            "KNN overview\n",
            "Accuracy = 0.819672131147541\n",
            "Precison = 0.8285714285714286\n",
            "Recall = 0.8529411764705882\n",
            "f1 score = 0.8405797101449276\n"
          ]
        }
      ]
    },
    {
      "cell_type": "code",
      "source": [
        "from sklearn.metrics import roc_curve\n",
        "from sklearn.metrics import roc_auc_score\n"
      ],
      "metadata": {
        "id": "5TFO0QYefbpZ"
      },
      "execution_count": null,
      "outputs": []
    },
    {
      "cell_type": "code",
      "source": [
        "probability_knn = classifier_knn.predict_proba(X_test)\n",
        "probpos_knn=probability_knn[:,1]"
      ],
      "metadata": {
        "id": "uXWnP7j5jsdr"
      },
      "execution_count": null,
      "outputs": []
    },
    {
      "cell_type": "code",
      "source": [
        "auc_knn = roc_auc_score(Y_test, probpos_knn)\n",
        "print('K-NN: ROC AUC=%.3f' % (auc_knn))"
      ],
      "metadata": {
        "colab": {
          "base_uri": "https://localhost:8080/"
        },
        "id": "iC53MfHNkFsX",
        "outputId": "f3bb9bf0-04b4-4eeb-c0a7-f5bd22c248f4"
      },
      "execution_count": null,
      "outputs": [
        {
          "output_type": "stream",
          "name": "stdout",
          "text": [
            "K-NN: ROC AUC=0.917\n"
          ]
        }
      ]
    },
    {
      "cell_type": "code",
      "source": [
        "fpr_knn, tpr_knn, _ = roc_curve(Y_test, probpos_knn)"
      ],
      "metadata": {
        "id": "ZojBot45oLYQ"
      },
      "execution_count": null,
      "outputs": []
    },
    {
      "cell_type": "code",
      "source": [
        "sn.set(font_scale=1)\n",
        "plt.plot(fpr_knn, tpr_knn,linewidth=1,color='red', label = 'AUC = %0.4f' % auc_knn)\n",
        "plt.plot([0, 1], [0, 1], color='blue', linewidth=1, linestyle='--')\n",
        "plt.xlabel('False Positive Rate')\n",
        "plt.ylabel('True Positive Rate')\n",
        "plt.title(\"ROC of KNN\")\n",
        "plt.legend(loc=\"lower right\")\n",
        "plt.grid(True)\n",
        "plt.show()"
      ],
      "metadata": {
        "colab": {
          "base_uri": "https://localhost:8080/",
          "height": 301
        },
        "id": "Cl7nJLAHog4B",
        "outputId": "65de3d00-e9b6-4d46-98a8-ca262bd52f22"
      },
      "execution_count": null,
      "outputs": [
        {
          "output_type": "display_data",
          "data": {
            "text/plain": [
              "<Figure size 432x288 with 1 Axes>"
            ],
            "image/png": "[encoded data removed]"
          },
          "metadata": {}
        }
      ]
    },
    {
      "cell_type": "code",
      "source": [
        ""
      ],
      "metadata": {
        "id": "yTwTd-Rho0bO"
      },
      "execution_count": null,
      "outputs": []
    },
    {
      "cell_type": "markdown",
      "source": [
        "# SVM"
      ],
      "metadata": {
        "id": "JdVzY9lBpW4T"
      }
    },
    {
      "cell_type": "code",
      "source": [
        "from sklearn.svm import SVC\n",
        "classifier_svm = SVC(kernel = 'rbf',probability=True, random_state = 0)"
      ],
      "metadata": {
        "id": "EorfAS6SpZg-"
      },
      "execution_count": null,
      "outputs": []
    },
    {
      "cell_type": "code",
      "source": [
        "classifier_svm.fit(X_train, Y_train)"
      ],
      "metadata": {
        "colab": {
          "base_uri": "https://localhost:8080/"
        },
        "id": "NZ1GHsvRpjc7",
        "outputId": "2b93cfd2-f8d1-4da0-cfaa-5be762ca5e61"
      },
      "execution_count": null,
      "outputs": [
        {
          "output_type": "execute_result",
          "data": {
            "text/plain": [
              "SVC(probability=True, random_state=0)"
            ]
          },
          "metadata": {},
          "execution_count": 24
        }
      ]
    },
    {
      "cell_type": "code",
      "source": [
        "y_prediction_svm=classifier_svm.predict(X_test)"
      ],
      "metadata": {
        "id": "nucGKjLJqNVL"
      },
      "execution_count": null,
      "outputs": []
    },
    {
      "cell_type": "code",
      "source": [
        "from sklearn.metrics import confusion_matrix\n",
        "CM_svm=confusion_matrix(Y_test, y_prediction_svm)\n",
        "print(CM_svm)"
      ],
      "metadata": {
        "colab": {
          "base_uri": "https://localhost:8080/"
        },
        "id": "XLQbsoEqql8x",
        "outputId": "b18c83f2-2000-4c36-bac7-fd663829152d"
      },
      "execution_count": null,
      "outputs": [
        {
          "output_type": "stream",
          "name": "stdout",
          "text": [
            "[[21  6]\n",
            " [ 2 32]]\n"
          ]
        }
      ]
    },
    {
      "cell_type": "code",
      "source": [
        "from sklearn.metrics import accuracy_score, precision_score, recall_score, f1_score\n",
        "ac  = accuracy_score(Y_test, y_prediction_svm)\n",
        "pre = precision_score(Y_test, y_prediction_svm)\n",
        "re  = recall_score(Y_test, y_prediction_svm)\n",
        "f1  = f1_score(Y_test, y_prediction_svm)"
      ],
      "metadata": {
        "id": "eWd-BgyyqqcN"
      },
      "execution_count": null,
      "outputs": []
    },
    {
      "cell_type": "code",
      "source": [
        "print(\"SVM overview\")\n",
        "print(\"Accuracy =\", ac)\n",
        "print(\"Precison =\",pre)\n",
        "print(\"Recall =\", re)\n",
        "print(\"f1 score =\", f1)"
      ],
      "metadata": {
        "colab": {
          "base_uri": "https://localhost:8080/"
        },
        "id": "8tAXsC2gq_DU",
        "outputId": "5e68e0db-8435-43b6-e95c-7ea8fc9c128a"
      },
      "execution_count": null,
      "outputs": [
        {
          "output_type": "stream",
          "name": "stdout",
          "text": [
            "SVM overview\n",
            "Accuracy = 0.8688524590163934\n",
            "Precison = 0.8421052631578947\n",
            "Recall = 0.9411764705882353\n",
            "f1 score = 0.8888888888888888\n"
          ]
        }
      ]
    },
    {
      "cell_type": "code",
      "source": [
        "probability_svm = classifier_svm.predict_proba(X_test)\n",
        "probpos_svm=probability_svm[:,1]"
      ],
      "metadata": {
        "id": "Y2QMhUe2sFni"
      },
      "execution_count": null,
      "outputs": []
    },
    {
      "cell_type": "code",
      "source": [
        "auc_svm = roc_auc_score(Y_test, probpos_svm)\n",
        "print('SVM: ROC AUC=%.3f' % (auc_svm))"
      ],
      "metadata": {
        "colab": {
          "base_uri": "https://localhost:8080/"
        },
        "id": "EJ24KCyrtvnD",
        "outputId": "58379f55-6b63-4c4c-80f2-9cae4226e7c4"
      },
      "execution_count": null,
      "outputs": [
        {
          "output_type": "stream",
          "name": "stdout",
          "text": [
            "SVM: ROC AUC=0.929\n"
          ]
        }
      ]
    },
    {
      "cell_type": "code",
      "source": [
        "fpr_svm, tpr_svm, _ = roc_curve(Y_test, probpos_svm)"
      ],
      "metadata": {
        "id": "ccgaKuFlt9Ue"
      },
      "execution_count": null,
      "outputs": []
    },
    {
      "cell_type": "code",
      "source": [
        "sn.set(font_scale=1)\n",
        "plt.plot(fpr_svm, tpr_svm,linewidth=1,color='red', label = 'AUC = %0.4f' % auc_svm)\n",
        "plt.plot([0, 1], [0, 1], color='blue', linewidth=1, linestyle='--')\n",
        "plt.xlabel('False Positive Rate')\n",
        "plt.ylabel('True Positive Rate')\n",
        "plt.title(\"ROC of SVM\")\n",
        "plt.legend(loc=\"lower right\")\n",
        "plt.grid(True)\n",
        "plt.show()"
      ],
      "metadata": {
        "colab": {
          "base_uri": "https://localhost:8080/",
          "height": 301
        },
        "id": "Nlq1EYF2uEii",
        "outputId": "caa9d186-f0a6-4bef-997f-e1a44e1b3eaa"
      },
      "execution_count": null,
      "outputs": [
        {
          "output_type": "display_data",
          "data": {
            "text/plain": [
              "<Figure size 432x288 with 1 Axes>"
            ],
            "image/png": "[encoded data removed]"
          },
          "metadata": {}
        }
      ]
    },
    {
      "cell_type": "code",
      "source": [
        ""
      ],
      "metadata": {
        "id": "O-iGKmnVuOkZ"
      },
      "execution_count": null,
      "outputs": []
    },
    {
      "cell_type": "markdown",
      "source": [
        "# Decision Tree\n"
      ],
      "metadata": {
        "id": "dNvSujyEubA4"
      }
    },
    {
      "cell_type": "code",
      "source": [
        "from sklearn.tree import DecisionTreeClassifier\n",
        "classifier_dt = DecisionTreeClassifier(criterion = 'entropy', random_state = 0)"
      ],
      "metadata": {
        "id": "WygEXud4udiP"
      },
      "execution_count": null,
      "outputs": []
    },
    {
      "cell_type": "code",
      "source": [
        "classifier_dt.fit(X_train, Y_train)"
      ],
      "metadata": {
        "colab": {
          "base_uri": "https://localhost:8080/"
        },
        "id": "GIwigluquxAq",
        "outputId": "1e82f6f9-0bff-4169-cd37-48d2fea5316c"
      },
      "execution_count": null,
      "outputs": [
        {
          "output_type": "execute_result",
          "data": {
            "text/plain": [
              "DecisionTreeClassifier(criterion='entropy', random_state=0)"
            ]
          },
          "metadata": {},
          "execution_count": 34
        }
      ]
    },
    {
      "cell_type": "code",
      "source": [
        "y_prediction_dt=classifier_dt.predict(X_test)"
      ],
      "metadata": {
        "id": "jhGssKJXu0bi"
      },
      "execution_count": null,
      "outputs": []
    },
    {
      "cell_type": "code",
      "source": [
        "from sklearn.metrics import confusion_matrix\n",
        "cm_dt = confusion_matrix(Y_test, y_prediction_dt)\n",
        "print(cm_dt)"
      ],
      "metadata": {
        "colab": {
          "base_uri": "https://localhost:8080/"
        },
        "id": "aPz0ghsKvIgB",
        "outputId": "64fa55a1-b0cc-48c6-8650-48fa162b8d14"
      },
      "execution_count": null,
      "outputs": [
        {
          "output_type": "stream",
          "name": "stdout",
          "text": [
            "[[22  5]\n",
            " [ 8 26]]\n"
          ]
        }
      ]
    },
    {
      "cell_type": "code",
      "source": [
        "from sklearn.metrics import accuracy_score, precision_score, recall_score, f1_score\n",
        "ac  = accuracy_score(Y_test, y_prediction_dt)\n",
        "pre = precision_score(Y_test, y_prediction_dt)\n",
        "re  = recall_score(Y_test, y_prediction_dt)\n",
        "f1  = f1_score(Y_test, y_prediction_dt)"
      ],
      "metadata": {
        "id": "wfM-7ppjvXPi"
      },
      "execution_count": null,
      "outputs": []
    },
    {
      "cell_type": "code",
      "source": [
        "print(\"DT overview\")\n",
        "print(\"Accuracy =\", ac)\n",
        "print(\"Precison =\",pre)\n",
        "print(\"Recall =\", re)\n",
        "print(\"f1 score =\", f1)"
      ],
      "metadata": {
        "colab": {
          "base_uri": "https://localhost:8080/"
        },
        "id": "In1ucId4vhM2",
        "outputId": "dfbb2e77-ab77-44b1-b043-3816697a7a1e"
      },
      "execution_count": null,
      "outputs": [
        {
          "output_type": "stream",
          "name": "stdout",
          "text": [
            "DT overview\n",
            "Accuracy = 0.7868852459016393\n",
            "Precison = 0.8387096774193549\n",
            "Recall = 0.7647058823529411\n",
            "f1 score = 0.7999999999999999\n"
          ]
        }
      ]
    },
    {
      "cell_type": "code",
      "source": [
        "probability_dt = classifier_dt.predict_proba(X_test)\n",
        "probpos_dt=probability_dt[:,1]"
      ],
      "metadata": {
        "id": "By4aTVZXvlfD"
      },
      "execution_count": null,
      "outputs": []
    },
    {
      "cell_type": "code",
      "source": [
        "auc_dt = roc_auc_score(Y_test, probpos_dt)\n",
        "print('DT: ROC AUC=%.3f' % (auc_dt))"
      ],
      "metadata": {
        "colab": {
          "base_uri": "https://localhost:8080/"
        },
        "id": "Mh0eNbRdvu6N",
        "outputId": "0132fb29-b26d-45f2-c5f1-603a3d98424a"
      },
      "execution_count": null,
      "outputs": [
        {
          "output_type": "stream",
          "name": "stdout",
          "text": [
            "DT: ROC AUC=0.790\n"
          ]
        }
      ]
    },
    {
      "cell_type": "code",
      "source": [
        "fpr_dt, tpr_dt, _ = roc_curve(Y_test, probpos_dt)"
      ],
      "metadata": {
        "id": "gZShADt9v2sG"
      },
      "execution_count": null,
      "outputs": []
    },
    {
      "cell_type": "code",
      "source": [
        "sn.set(font_scale=1)\n",
        "plt.plot(fpr_dt, tpr_dt,linewidth=1,color='red', label = 'AUC = %0.4f' % auc_dt)\n",
        "plt.plot([0, 1], [0, 1], color='blue', linewidth=1, linestyle='--')\n",
        "plt.xlabel('False Positive Rate')\n",
        "plt.ylabel('True Positive Rate')\n",
        "plt.title(\"ROC of DT\")\n",
        "plt.legend(loc=\"lower right\")\n",
        "plt.grid(True)\n",
        "plt.show()"
      ],
      "metadata": {
        "colab": {
          "base_uri": "https://localhost:8080/",
          "height": 301
        },
        "id": "7lewBakJv92X",
        "outputId": "1f79c193-6a63-49bf-f05a-98751dcc459a"
      },
      "execution_count": null,
      "outputs": [
        {
          "output_type": "display_data",
          "data": {
            "text/plain": [
              "<Figure size 432x288 with 1 Axes>"
            ],
            "image/png": "[encoded data removed]"
          },
          "metadata": {}
        }
      ]
    },
    {
      "cell_type": "code",
      "source": [
        ""
      ],
      "metadata": {
        "id": "xVa-Fg9awFxJ"
      },
      "execution_count": null,
      "outputs": []
    },
    {
      "cell_type": "markdown",
      "source": [
        "# Logistic regression"
      ],
      "metadata": {
        "id": "SSw4tTCJV__2"
      }
    },
    {
      "cell_type": "code",
      "source": [
        "from sklearn.linear_model import LogisticRegression\n",
        "classifier_lr= LogisticRegression(dual=False,penalty=\"l2\",random_state=0)"
      ],
      "metadata": {
        "id": "US6JLDWWQYug"
      },
      "execution_count": null,
      "outputs": []
    },
    {
      "cell_type": "code",
      "source": [
        "classifier_lr.fit(X_train, Y_train)"
      ],
      "metadata": {
        "colab": {
          "base_uri": "https://localhost:8080/"
        },
        "id": "w3DAmFYGRk0D",
        "outputId": "46abe643-939d-4628-ae23-57d3d93c6205"
      },
      "execution_count": null,
      "outputs": [
        {
          "output_type": "execute_result",
          "data": {
            "text/plain": [
              "LogisticRegression(random_state=0)"
            ]
          },
          "metadata": {},
          "execution_count": 44
        }
      ]
    },
    {
      "cell_type": "code",
      "source": [
        "y_prediction_lr=classifier_lr.predict(X_test)"
      ],
      "metadata": {
        "id": "gAUNekvMR9Uw"
      },
      "execution_count": null,
      "outputs": []
    },
    {
      "cell_type": "code",
      "source": [
        "from sklearn.metrics import confusion_matrix\n",
        "cm_lr = confusion_matrix(Y_test, y_prediction_lr)\n",
        "print(cm_lr)"
      ],
      "metadata": {
        "colab": {
          "base_uri": "https://localhost:8080/"
        },
        "id": "nkFcF95XhcPi",
        "outputId": "5c2302f8-c2ea-4bdc-86a1-c1e47589af15"
      },
      "execution_count": null,
      "outputs": [
        {
          "output_type": "stream",
          "name": "stdout",
          "text": [
            "[[21  6]\n",
            " [ 3 31]]\n"
          ]
        }
      ]
    },
    {
      "cell_type": "code",
      "source": [
        "from sklearn.metrics import accuracy_score, precision_score, recall_score, f1_score\n",
        "ac  = accuracy_score(Y_test, y_prediction_lr)\n",
        "pre = precision_score(Y_test, y_prediction_lr)\n",
        "re  = recall_score(Y_test, y_prediction_lr)\n",
        "f1  = f1_score(Y_test, y_prediction_lr)"
      ],
      "metadata": {
        "id": "e_e5ST3Nhjo2"
      },
      "execution_count": null,
      "outputs": []
    },
    {
      "cell_type": "code",
      "source": [
        "print(\"LR overview\")\n",
        "print(\"Accuracy =\", ac)\n",
        "print(\"Precison =\",pre)\n",
        "print(\"Recall =\", re)\n",
        "print(\"f1 score =\", f1)"
      ],
      "metadata": {
        "colab": {
          "base_uri": "https://localhost:8080/"
        },
        "id": "ubML9g6whrqQ",
        "outputId": "bc9dc0ad-3bf6-4011-c701-24ef7108cd81"
      },
      "execution_count": null,
      "outputs": [
        {
          "output_type": "stream",
          "name": "stdout",
          "text": [
            "LR overview\n",
            "Accuracy = 0.8524590163934426\n",
            "Precison = 0.8378378378378378\n",
            "Recall = 0.9117647058823529\n",
            "f1 score = 0.8732394366197184\n"
          ]
        }
      ]
    },
    {
      "cell_type": "code",
      "source": [
        "probability_lr = classifier_lr.predict_proba(X_test)\n",
        "probpos_lr=probability_lr[:,1]"
      ],
      "metadata": {
        "id": "xuxWVHkLhxcY"
      },
      "execution_count": null,
      "outputs": []
    },
    {
      "cell_type": "code",
      "source": [
        "auc_lr = roc_auc_score(Y_test, probpos_lr)\n",
        "print('LR: ROC AUC=%.3f' % (auc_lr))"
      ],
      "metadata": {
        "colab": {
          "base_uri": "https://localhost:8080/"
        },
        "id": "_wbpdqMjh4VY",
        "outputId": "b5661b86-282e-45a5-82ea-383ec4859912"
      },
      "execution_count": null,
      "outputs": [
        {
          "output_type": "stream",
          "name": "stdout",
          "text": [
            "LR: ROC AUC=0.911\n"
          ]
        }
      ]
    },
    {
      "cell_type": "code",
      "source": [
        "fpr_lr, tpr_lr, _ = roc_curve(Y_test, probpos_lr)"
      ],
      "metadata": {
        "id": "JvFpdcoOh_ct"
      },
      "execution_count": null,
      "outputs": []
    },
    {
      "cell_type": "code",
      "source": [
        "sn.set(font_scale=1)\n",
        "plt.plot(fpr_lr, tpr_lr,linewidth=1,color='red', label = 'AUC = %0.4f' % auc_lr)\n",
        "plt.plot([0, 1], [0, 1], color='blue', linewidth=1, linestyle='--')\n",
        "plt.xlabel('False Positive Rate')\n",
        "plt.ylabel('True Positive Rate')\n",
        "plt.title(\"ROC of LR\")\n",
        "plt.legend(loc=\"lower right\")\n",
        "plt.grid(True)\n",
        "plt.show()"
      ],
      "metadata": {
        "colab": {
          "base_uri": "https://localhost:8080/",
          "height": 301
        },
        "id": "2YUU6ZXMiFqD",
        "outputId": "a90ff74d-a334-40ae-90ef-98d17c54a91b"
      },
      "execution_count": null,
      "outputs": [
        {
          "output_type": "display_data",
          "data": {
            "text/plain": [
              "<Figure size 432x288 with 1 Axes>"
            ],
            "image/png": "[encoded data removed]"
          },
          "metadata": {}
        }
      ]
    },
    {
      "cell_type": "code",
      "source": [
        ""
      ],
      "metadata": {
        "id": "Di9bGc4SiSJG"
      },
      "execution_count": null,
      "outputs": []
    },
    {
      "cell_type": "markdown",
      "source": [
        "# Naive Bayes"
      ],
      "metadata": {
        "id": "NcxhFkJBiU4s"
      }
    },
    {
      "cell_type": "code",
      "source": [
        "from sklearn.naive_bayes import GaussianNB\n",
        "classifier_GaussianNB = GaussianNB(priors=None)"
      ],
      "metadata": {
        "id": "JJHowT-eiaer"
      },
      "execution_count": null,
      "outputs": []
    },
    {
      "cell_type": "code",
      "source": [
        "classifier_GaussianNB.fit(X_train, Y_train)"
      ],
      "metadata": {
        "colab": {
          "base_uri": "https://localhost:8080/"
        },
        "id": "S4a1PqxJirHj",
        "outputId": "89da1bb3-6d2f-4f4b-fbca-b83f0b9ed354"
      },
      "execution_count": null,
      "outputs": [
        {
          "output_type": "execute_result",
          "data": {
            "text/plain": [
              "GaussianNB()"
            ]
          },
          "metadata": {},
          "execution_count": 54
        }
      ]
    },
    {
      "cell_type": "code",
      "source": [
        "y_prediction_GaussianNB=classifier_GaussianNB.predict(X_test)"
      ],
      "metadata": {
        "id": "aHiK4oZ5iy2u"
      },
      "execution_count": null,
      "outputs": []
    },
    {
      "cell_type": "code",
      "source": [
        "from sklearn.metrics import confusion_matrix\n",
        "cm_GaussianNB = confusion_matrix(Y_test, y_prediction_GaussianNB)\n",
        "print(cm_GaussianNB)"
      ],
      "metadata": {
        "colab": {
          "base_uri": "https://localhost:8080/"
        },
        "id": "uyn48RQgqEdk",
        "outputId": "493191c3-d5b8-460b-aed0-d1569bf78622"
      },
      "execution_count": null,
      "outputs": [
        {
          "output_type": "stream",
          "name": "stdout",
          "text": [
            "[[21  6]\n",
            " [ 3 31]]\n"
          ]
        }
      ]
    },
    {
      "cell_type": "code",
      "source": [
        "from sklearn.metrics import accuracy_score, precision_score, recall_score, f1_score\n",
        "ac  = accuracy_score(Y_test, y_prediction_GaussianNB)\n",
        "pre = precision_score(Y_test, y_prediction_GaussianNB)\n",
        "re  = recall_score(Y_test, y_prediction_GaussianNB)\n",
        "f1  = f1_score(Y_test, y_prediction_GaussianNB)"
      ],
      "metadata": {
        "id": "oV9hVuOyqMZV"
      },
      "execution_count": null,
      "outputs": []
    },
    {
      "cell_type": "code",
      "source": [
        "print(\"GNB overview\")\n",
        "print(\"Accuracy =\", ac)\n",
        "print(\"Precison =\",pre)\n",
        "print(\"Recall =\", re)\n",
        "print(\"f1 score =\", f1)"
      ],
      "metadata": {
        "colab": {
          "base_uri": "https://localhost:8080/"
        },
        "id": "KjLXERRxqW-4",
        "outputId": "c1cc1c58-ae4f-4a19-87d0-f48f55ca1780"
      },
      "execution_count": null,
      "outputs": [
        {
          "output_type": "stream",
          "name": "stdout",
          "text": [
            "GNB overview\n",
            "Accuracy = 0.8524590163934426\n",
            "Precison = 0.8378378378378378\n",
            "Recall = 0.9117647058823529\n",
            "f1 score = 0.8732394366197184\n"
          ]
        }
      ]
    },
    {
      "cell_type": "code",
      "source": [
        "probability_GaussianNB = classifier_GaussianNB.predict_proba(X_test)\n",
        "probpos_GaussianNB=probability_GaussianNB[:,1]"
      ],
      "metadata": {
        "id": "oeLi_LwNqa34"
      },
      "execution_count": null,
      "outputs": []
    },
    {
      "cell_type": "code",
      "source": [
        "auc_GaussianNB = roc_auc_score(Y_test, probpos_GaussianNB)\n",
        "print('GaussianNB: ROC AUC=%.3f' % (auc_GaussianNB))"
      ],
      "metadata": {
        "colab": {
          "base_uri": "https://localhost:8080/"
        },
        "id": "ph7Jsd3FqjUf",
        "outputId": "2848d35f-5c09-400e-f574-d89397774baf"
      },
      "execution_count": null,
      "outputs": [
        {
          "output_type": "stream",
          "name": "stdout",
          "text": [
            "GaussianNB: ROC AUC=0.907\n"
          ]
        }
      ]
    },
    {
      "cell_type": "code",
      "source": [
        "fpr_GaussianNB, tpr_GaussianNB, _ = roc_curve(Y_test, probpos_GaussianNB)"
      ],
      "metadata": {
        "id": "VvF-lNWtqriR"
      },
      "execution_count": null,
      "outputs": []
    },
    {
      "cell_type": "code",
      "source": [
        "sn.set(font_scale=1)\n",
        "plt.plot(fpr_GaussianNB, tpr_GaussianNB,linewidth=1,color='red', label = 'AUC = %0.4f' % auc_GaussianNB)\n",
        "plt.plot([0, 1], [0, 1], color='blue', linewidth=1, linestyle='--')\n",
        "plt.xlabel('False Positive Rate')\n",
        "plt.ylabel('True Positive Rate')\n",
        "plt.title(\"ROC of GNB\")\n",
        "plt.legend(loc=\"lower right\")\n",
        "plt.grid(True)\n",
        "plt.show()"
      ],
      "metadata": {
        "colab": {
          "base_uri": "https://localhost:8080/",
          "height": 301
        },
        "id": "1eBSIhl2qyj5",
        "outputId": "5a74791a-4cb9-4b27-d018-fa23c9cc65b7"
      },
      "execution_count": null,
      "outputs": [
        {
          "output_type": "display_data",
          "data": {
            "text/plain": [
              "<Figure size 432x288 with 1 Axes>"
            ],
            "image/png": "[encoded data removed]"
          },
          "metadata": {}
        }
      ]
    },
    {
      "cell_type": "code",
      "source": [
        ""
      ],
      "metadata": {
        "id": "FHzb3p2_q7AL"
      },
      "execution_count": null,
      "outputs": []
    },
    {
      "cell_type": "markdown",
      "source": [
        "# Random Forest Classifier"
      ],
      "metadata": {
        "id": "v9JKuEIxq8je"
      }
    },
    {
      "cell_type": "code",
      "source": [
        "from sklearn.ensemble import RandomForestClassifier\n",
        "classifier_rf = RandomForestClassifier(criterion=\"gini\",min_samples_leaf=1,random_state=0)"
      ],
      "metadata": {
        "id": "lJHGUK_erDKE"
      },
      "execution_count": null,
      "outputs": []
    },
    {
      "cell_type": "code",
      "source": [
        "classifier_rf.fit (X_train, Y_train)"
      ],
      "metadata": {
        "colab": {
          "base_uri": "https://localhost:8080/"
        },
        "id": "NDbALQdYrHTu",
        "outputId": "ca9d1843-913e-42a7-98d2-6fe723c59b1f"
      },
      "execution_count": null,
      "outputs": [
        {
          "output_type": "execute_result",
          "data": {
            "text/plain": [
              "RandomForestClassifier(random_state=0)"
            ]
          },
          "metadata": {},
          "execution_count": 65
        }
      ]
    },
    {
      "cell_type": "code",
      "source": [
        "y_prediction_rf=classifier_rf.predict(X_test)"
      ],
      "metadata": {
        "id": "L2D-t7KArPKF"
      },
      "execution_count": null,
      "outputs": []
    },
    {
      "cell_type": "code",
      "source": [
        "from sklearn.metrics import confusion_matrix\n",
        "cm_rf = confusion_matrix(Y_test, y_prediction_rf)\n",
        "print(cm_rf)"
      ],
      "metadata": {
        "colab": {
          "base_uri": "https://localhost:8080/"
        },
        "id": "ROAe7F4JrVMU",
        "outputId": "bd70d29e-118e-4c82-e18c-9f12ff304e45"
      },
      "execution_count": null,
      "outputs": [
        {
          "output_type": "stream",
          "name": "stdout",
          "text": [
            "[[24  3]\n",
            " [ 5 29]]\n"
          ]
        }
      ]
    },
    {
      "cell_type": "code",
      "source": [
        "from sklearn.metrics import accuracy_score, precision_score, recall_score, f1_score\n",
        "ac  = accuracy_score(Y_test, y_prediction_rf)\n",
        "pre = precision_score(Y_test, y_prediction_rf)\n",
        "re  = recall_score(Y_test, y_prediction_rf)\n",
        "f1  = f1_score(Y_test, y_prediction_rf)"
      ],
      "metadata": {
        "id": "vSyLJmlkrcGT"
      },
      "execution_count": null,
      "outputs": []
    },
    {
      "cell_type": "code",
      "source": [
        "print(\"RF overview\")\n",
        "print(\"Accuracy =\", ac)\n",
        "print(\"Precison =\",pre)\n",
        "print(\"Recall =\", re)\n",
        "print(\"f1 score =\", f1)"
      ],
      "metadata": {
        "colab": {
          "base_uri": "https://localhost:8080/"
        },
        "id": "kshAuQYvrov5",
        "outputId": "fb238553-fcf6-463b-f37e-5d8107d479c5"
      },
      "execution_count": null,
      "outputs": [
        {
          "output_type": "stream",
          "name": "stdout",
          "text": [
            "RF overview\n",
            "Accuracy = 0.8688524590163934\n",
            "Precison = 0.90625\n",
            "Recall = 0.8529411764705882\n",
            "f1 score = 0.8787878787878787\n"
          ]
        }
      ]
    },
    {
      "cell_type": "code",
      "source": [
        "probability_rf = classifier_rf.predict_proba(X_test)\n",
        "probpos_rf=probability_rf[:,1]"
      ],
      "metadata": {
        "id": "kbKUUqhgrzdz"
      },
      "execution_count": null,
      "outputs": []
    },
    {
      "cell_type": "code",
      "source": [
        "auc_rf = roc_auc_score(Y_test, probpos_rf)\n",
        "print('RF: ROC AUC=%.3f' % (auc_rf))"
      ],
      "metadata": {
        "colab": {
          "base_uri": "https://localhost:8080/"
        },
        "id": "EeVElAjTsDsD",
        "outputId": "2e346aec-c4d8-4503-9db9-efd96b7e92f9"
      },
      "execution_count": null,
      "outputs": [
        {
          "output_type": "stream",
          "name": "stdout",
          "text": [
            "RF: ROC AUC=0.937\n"
          ]
        }
      ]
    },
    {
      "cell_type": "code",
      "source": [
        "fpr_rf, tpr_rf, _ = roc_curve(Y_test, probpos_rf)"
      ],
      "metadata": {
        "id": "9DcEnxgdsKQW"
      },
      "execution_count": null,
      "outputs": []
    },
    {
      "cell_type": "code",
      "source": [
        "sn.set(font_scale=1)\n",
        "plt.plot(fpr_rf, tpr_rf,linewidth=1,color='red', label = 'AUC = %0.4f' % auc_rf)\n",
        "plt.plot([0, 1], [0, 1], color='blue', linewidth=1, linestyle='--')\n",
        "plt.xlabel('False Positive Rate')\n",
        "plt.ylabel('True Positive Rate')\n",
        "plt.title(\"ROC of GNB\")\n",
        "plt.legend(loc=\"lower right\")\n",
        "plt.grid(True)\n",
        "plt.show()"
      ],
      "metadata": {
        "colab": {
          "base_uri": "https://localhost:8080/",
          "height": 301
        },
        "id": "fZsJ465PsPwb",
        "outputId": "8edc3680-a7aa-4bbf-d4a3-824aeb0e8386"
      },
      "execution_count": null,
      "outputs": [
        {
          "output_type": "display_data",
          "data": {
            "text/plain": [
              "<Figure size 432x288 with 1 Axes>"
            ],
            "image/png": "[encoded data removed]"
          },
          "metadata": {}
        }
      ]
    },
    {
      "cell_type": "code",
      "source": [
        ""
      ],
      "metadata": {
        "id": "lTNIjxvRsdHp"
      },
      "execution_count": null,
      "outputs": []
    }
  ]
}